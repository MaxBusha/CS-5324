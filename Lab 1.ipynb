{
 "cells": [
  {
   "cell_type": "markdown",
   "id": "2f786290",
   "metadata": {},
   "source": [
    "# Lab 1 - Exploring Table Data\n",
    "This is a test to make sure I know how Jupyter works."
   ]
  },
  {
   "cell_type": "code",
   "execution_count": 1,
   "id": "785915fe",
   "metadata": {},
   "outputs": [
    {
     "name": "stdout",
     "output_type": "stream",
     "text": [
      "<module 'pandas' from 'C:\\\\Users\\\\evanh\\\\anaconda3\\\\lib\\\\site-packages\\\\pandas\\\\__init__.py'> <module 'numpy' from 'C:\\\\Users\\\\evanh\\\\anaconda3\\\\lib\\\\site-packages\\\\numpy\\\\__init__.py'> <module 'matplotlib' from 'C:\\\\Users\\\\evanh\\\\anaconda3\\\\lib\\\\site-packages\\\\matplotlib\\\\__init__.py'>\n"
     ]
    }
   ],
   "source": [
    "import pandas as pd\n",
    "import numpy as np\n",
    "import matplotlib as plt\n",
    "\n",
    "print(pd, np, plt)"
   ]
  },
  {
   "cell_type": "code",
   "execution_count": null,
   "id": "71ea19b5",
   "metadata": {},
   "outputs": [],
   "source": []
  }
 ],
 "metadata": {
  "kernelspec": {
   "display_name": "Python 3",
   "language": "python",
   "name": "python3"
  },
  "language_info": {
   "codemirror_mode": {
    "name": "ipython",
    "version": 3
   },
   "file_extension": ".py",
   "mimetype": "text/x-python",
   "name": "python",
   "nbconvert_exporter": "python",
   "pygments_lexer": "ipython3",
   "version": "3.8.8"
  }
 },
 "nbformat": 4,
 "nbformat_minor": 5
}
